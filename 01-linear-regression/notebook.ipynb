# notebook.ipynb
import pandas as pd
import matplotlib.pyplot as plt
from sklearn.linear_model import LinearRegression

# Sample data
data = {'Hours_Studied': [1,2,3,4,5,6,7,8,9,10],
        'Exam_Score': [50,55,60,63,65,70,74,78,85,88]}
df = pd.DataFrame(data)

# Plot
plt.scatter(df['Hours_Studied'], df['Exam_Score'])
plt.xlabel('Hours Studied')
plt.ylabel('Exam Score')
plt.title('Study Time vs Exam Score')
plt.show()

# Model
model = LinearRegression()
model.fit(df[['Hours_Studied']], df['Exam_Score'])

# Predict
predicted = model.predict([[6.5]])
print(f"Predicted Score for 6.5 hours: {predicted[0]:.2f}")

